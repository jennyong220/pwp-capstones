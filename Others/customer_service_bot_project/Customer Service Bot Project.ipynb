{
 "cells": [
  {
   "cell_type": "code",
   "execution_count": 1,
   "metadata": {},
   "outputs": [
    {
     "name": "stdout",
     "output_type": "stream",
     "text": [
      "What is your name? JOHHNNY\n"
     ]
    }
   ],
   "source": [
    "name = input(\"What is your name? \")"
   ]
  },
  {
   "cell_type": "code",
   "execution_count": 2,
   "metadata": {
    "scrolled": true
   },
   "outputs": [
    {
     "name": "stdout",
     "output_type": "stream",
     "text": [
      "JOHHNNY\n"
     ]
    }
   ],
   "source": [
    "print(name)"
   ]
  },
  {
   "cell_type": "code",
   "execution_count": 3,
   "metadata": {},
   "outputs": [],
   "source": [
    "def cs_service_bot():\n",
    "    print(\"Hello! Welcome to the DNS Cable Company's Service Portal. Are you a new or existing customer? \\n [1] New Customer \\n [2] Existing Customer\")\n",
    "    response = input(\"Please enter the number corresponding to your choice: \")\n",
    "    if response == \"1\":\n",
    "        new_customer()\n",
    "    elif response == \"2\":\n",
    "        existing_customer()\n",
    "    else:\n",
    "        print(\"Sorry, we didn't understand your selection.\")\n",
    "        cs_service_bot()\n",
    "    "
   ]
  },
  {
   "cell_type": "code",
   "execution_count": 4,
   "metadata": {},
   "outputs": [],
   "source": [
    "def existing_customer():\n",
    "    print(\"Existing customer options: \\n [1] Television Support \\n [2] Internet Support \\n [3] Speak to a Support Representative\")\n",
    "    response = input(\"What kind of support do you need? \")\n",
    "    if response == \"1\":\n",
    "        television_support()\n",
    "    elif response == \"2\":\n",
    "        internet_support()\n",
    "    elif response == \"3\":\n",
    "        ##support = input(\"Response: \")\n",
    "        live_rep(\"support\")\n",
    "    else:\n",
    "        print(\"Sorry, we didn't understand your selection.\")\n",
    "        existing_customer()"
   ]
  },
  {
   "cell_type": "code",
   "execution_count": 5,
   "metadata": {},
   "outputs": [],
   "source": [
    "def new_customer():\n",
    "    print(\"New customer options: \\n [1] Sign up for service. \\n [2] Schedule a home visit. \\n [3] Speak to a sales representative.\")\n",
    "    response = input(\"What kind of service do you need? \")\n",
    "    if response == \"1\":\n",
    "        sign_up()\n",
    "    elif response == \"2\":\n",
    "        home_visit()\n",
    "    elif response == \"3\":\n",
    "        ##support = input(\"Response: \")\n",
    "        live_rep(\"sale\")\n",
    "    else:\n",
    "        print(\"Sorry, we didn't understand your selection.\")\n",
    "        new_customer()\n",
    "    "
   ]
  },
  {
   "cell_type": "code",
   "execution_count": 6,
   "metadata": {},
   "outputs": [],
   "source": [
    "def television_support():\n",
    "    print(\"What is the nature of your problem? \\n [1] I can't access certain channels. \\n [2] My picture is blurry. \\n [3] I keep losing service. \\n [4] Other issues.\")\n",
    "    response = input(\"Please input your response: \")\n",
    "    if response == \"1\":\n",
    "        print(\"Please check the channel lists at DefinityNotSinister.com. If the channel you cannot access is there, please contact a live representative.\")\n",
    "        did_that_help()\n",
    "    elif response == \"2\":\n",
    "        print(\"Try adjusting the antenna above your television set.\")\n",
    "        did_that_help()\n",
    "    elif response == \"3\":\n",
    "        print(\"Is it raining outside? If so, wait until it is not raining and then try again.\")\n",
    "        did_that_help()\n",
    "    elif response == \"4\":\n",
    "        ##support = input(\"Response: \")\n",
    "        live_rep(\"support\")\n",
    "    else:\n",
    "        print(\"Sorry, we didn't understand your selection.\")\n",
    "        television_support()\n",
    "    "
   ]
  },
  {
   "cell_type": "code",
   "execution_count": 7,
   "metadata": {},
   "outputs": [],
   "source": [
    "def internet_support():\n",
    "    print(\"What is the nature of your problem? \\n [1] I can't connect to the internet. \\n [2] My connection is very slow. \\n [3] I can't access certain sites. \\n [4] Other issues.\")\n",
    "    response = input(\"Please input your response: \")\n",
    "    if response == \"1\":\n",
    "        print(\"Unplug your router, then plug it back in, then give it a good whack, like the Fonz.\")\n",
    "        did_that_help()\n",
    "    elif response == \"2\":\n",
    "        print(\"Make sure that all cell phones and other people computers are not connected to the internet, so that you can have all the bandwidth.\")\n",
    "        did_that_help()\n",
    "    elif response == \"3\":\n",
    "        print(\"Move to a different region or install a VPN. Some areas block certain sites.\")\n",
    "        did_that_help()\n",
    "    elif response == \"4\":\n",
    "        ##support = input(\"Response: \")\n",
    "        live_rep(\"support\")\n",
    "    else:\n",
    "        print(\"Sorry, we didn't understand your selection.\")\n",
    "        internet_support()\n",
    "    "
   ]
  },
  {
   "cell_type": "code",
   "execution_count": 8,
   "metadata": {},
   "outputs": [],
   "source": [
    "def did_that_help():\n",
    "    response = input(\"Did that help? [Y/N] \")\n",
    "    if response == \"Y\":\n",
    "        print(\"Thanks, it has been a pleasure, have a wonderful day!\")\n",
    "    elif response == \"N\":\n",
    "        response2 = input(\"Would you like to a live representative over the phone or schedule a home visit? [Phone/Home] \")\n",
    "        if response2 == \"Phone\":\n",
    "            live_rep(\"support\")\n",
    "        elif response2 == \"Home\":\n",
    "            home_visit(\"support\")\n",
    "        else:\n",
    "            print(\"Sorry, we didn't understand your selection.\")\n",
    "            did_that_help()\n",
    "    else:\n",
    "        print(\"Sorry, we didn't understand your selection.\")\n",
    "        did_that_help()\n",
    "        \n",
    "        "
   ]
  },
  {
   "cell_type": "code",
   "execution_count": 9,
   "metadata": {},
   "outputs": [],
   "source": [
    "def sign_up():\n",
    "    print(\"Great choice, friend! We're excited to have you join the DNS family! Please select the package you are interested in signing up for.  \\n [1] Bundle Deal (Internet + Cable) \\n [2] Internet \\n [3] Cable\")\n",
    "    response = input(\"Please place your response here: \")\n",
    "    if response == \"1\":\n",
    "        print(\"You've selected the Bundle Package!  Please schedule a home visit and our technician will come and set up your new service.\")\n",
    "        home_visit(\"new install\")\n",
    "    elif response == \"2\":\n",
    "        print(\"You've selected the Internet Only Package!  Please schedule a home visit and our technician will come and set up your new service.\")\n",
    "        home_visit(\"new install\")\n",
    "    elif response == \"3\":\n",
    "        print(\"You've selected the Cable Only Package!  Please schedule a home visit and our technician will come and set up your new service.\")\n",
    "        home_visit(\"new install\")\n",
    "    else:\n",
    "        print(\"Sorry, we didn't understand your selection.\")\n",
    "        sign_up()"
   ]
  },
  {
   "cell_type": "code",
   "execution_count": 10,
   "metadata": {},
   "outputs": [],
   "source": [
    "def home_visit(purpose = \"none\"):\n",
    "    if purpose == \"none\":\n",
    "        print(\"What is the purpose of the home visit? \\n [1] New service installation \\n [2] Existing service repair \\n [3] Location scouting for unserviced region\")\n",
    "        response = input(\"Please select one: \")\n",
    "        if response == \"1\":\n",
    "            home_visit(\"new install\")\n",
    "        elif response == \"2\":\n",
    "            home_visit(\"support\")\n",
    "        elif response == \"3\":\n",
    "            home_visit(\"scout\")\n",
    "        else:\n",
    "            print(\"Sorry, we didn't understand your selection.\")\n",
    "            home_visit()\n",
    "    if purpose == \"new install\":\n",
    "        print(\"Please enter a date below when you are available for a technician to come to your home and install your new service.\")\n",
    "        visit_date = input(\"Date:\")\n",
    "        print(\"Wonderful! A technical will come visit you on \" + visit_date + \". Please be available between the hours of 1:00 am and 11:00 pm.\" )\n",
    "        return visit_date\n",
    "    if purpose == \"service\":\n",
    "        print(\"Please enter a date below when you are available for a technician to come and inspect the problem:\")\n",
    "        visit_date = input(\"Date:\")\n",
    "        print(\"Wonderful! A technical will come visit you on \" + visit_date + \". Please be available between the hours of 1:00 am and 11:00 pm.\" )\n",
    "        return visit_date\n",
    "    if purpose == \"scout\":\n",
    "        print(\"Please enter a date below when you are available for a technician to come scout your region for expansion:\")\n",
    "        visit_date = input(\"Date:\")\n",
    "        print(\"Wonderful! A technical will come visit you on \" + visit_date + \". Please be available between the hours of 1:00 am and 11:00 pm.\" )\n",
    "        return visit_date\n",
    "    "
   ]
  },
  {
   "cell_type": "code",
   "execution_count": 11,
   "metadata": {},
   "outputs": [],
   "source": [
    "def live_rep(purpose):\n",
    "    if purpose == \"sales\":\n",
    "        print(\"Please hold while we connect you with a live sales representative.  The wait time will be between two minutes and six hours.  We thank you for your patience.\")\n",
    "    if purpose == \"support\":\n",
    "        print(\"Please hold while we connect you with a live sales representative. The wait time will be between two minutes and six hours. We thank you for your patience.\")\n",
    "    "
   ]
  },
  {
   "cell_type": "code",
   "execution_count": 12,
   "metadata": {},
   "outputs": [
    {
     "name": "stdout",
     "output_type": "stream",
     "text": [
      "Hello! Welcome to the DNS Cable Company's Service Portal. Are you a new or existing customer? \n",
      " [1] New Customer \n",
      " [2] Existing Customer\n",
      "Please enter the number corresponding to your choice: 2\n",
      "Existing customer options: \n",
      " [1] Television Support \n",
      " [2] Internet Support \n",
      " [3] Speak to a Support Representative\n",
      "What kind of support do you need? 1\n",
      "What is the nature of your problem? \n",
      " [1] I can't access certain channels. \n",
      " [2] My picture is blurry. \n",
      " [3] I keep losing service. \n",
      " [4] Other issues.\n",
      "Please input your response: 1\n",
      "Please check the channel lists at DefinityNotSinister.com. If the channel you cannot access is there, please contact a live representative.\n",
      "Did that help? [Y/N] N\n",
      "Would you like to a live representative over the phone or schedule a home visit? [Phone/Home] 23423\n",
      "Sorry, we didn't understand your selection.\n",
      "Did that help? [Y/N] N\n",
      "Would you like to a live representative over the phone or schedule a home visit? [Phone/Home] Phone\n",
      "Please hold while we connect you with a live sales representative. The wait time will be between two minutes and six hours. We thank you for your patience.\n"
     ]
    }
   ],
   "source": [
    "cs_service_bot()"
   ]
  },
  {
   "cell_type": "code",
   "execution_count": null,
   "metadata": {},
   "outputs": [],
   "source": []
  }
 ],
 "metadata": {
  "kernelspec": {
   "display_name": "Python 3",
   "language": "python",
   "name": "python3"
  },
  "language_info": {
   "codemirror_mode": {
    "name": "ipython",
    "version": 3
   },
   "file_extension": ".py",
   "mimetype": "text/x-python",
   "name": "python",
   "nbconvert_exporter": "python",
   "pygments_lexer": "ipython3",
   "version": "3.6.5"
  }
 },
 "nbformat": 4,
 "nbformat_minor": 2
}
